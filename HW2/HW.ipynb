{
 "metadata": {
  "language_info": {
   "codemirror_mode": {
    "name": "ipython",
    "version": 3
   },
   "file_extension": ".py",
   "mimetype": "text/x-python",
   "name": "python",
   "nbconvert_exporter": "python",
   "pygments_lexer": "ipython3",
   "version": "3.8.3-final"
  },
  "orig_nbformat": 2,
  "kernelspec": {
   "name": "python383jvsc74a57bd084d37dffb2af7f268fc7f49b660c49f0933770a2b2a82a03c1aeb1edb794d7a9",
   "display_name": "Python 3.8.3 64-bit (conda)"
  }
 },
 "nbformat": 4,
 "nbformat_minor": 2,
 "cells": [
  {
   "cell_type": "code",
   "execution_count": 1,
   "metadata": {},
   "outputs": [],
   "source": [
    "import numpy as np \n",
    "import pandas as pd \n",
    "import matplotlib.pyplot as plt \n",
    "import seaborn as sns "
   ]
  },
  {
   "cell_type": "code",
   "execution_count": null,
   "metadata": {},
   "outputs": [],
   "source": [
    "class LogisticRegrasion(): \n",
    "    loss={'log':log_loss}\n",
    "    optimization={'GD':GD}\n",
    "    \n",
    "    def sigmoid(x):\n",
    "        return 1/(1+np.exp(np.exp(-x)))\n",
    "    def GD(X,Y,apha,itter):\n",
    "        n_s=len(Y)\n",
    "        n_f=X.shape[1]\n",
    "        w = np.random.uniform(-2,2,n_f)\n",
    "        for i in range(itter): \n",
    "            dw = ((sigmoid(X@w) - Y) @ X )/n_s\n",
    "            w=w-alpha*dw\n",
    "        return w \n",
    "\n",
    "    def __init__(self,loss_function,optimization_method):\n",
    "        self.loss_function=loss_function\n",
    "        self.optimization_method=optimization_method\n",
    "        pass \n",
    "    def fit(self,X,Y):\n",
    "        self.w_fit=optimization[self.optimization_method](X,Y)\n",
    "        \n"
   ]
  },
  {
   "cell_type": "code",
   "execution_count": 17,
   "metadata": {},
   "outputs": [],
   "source": [
    "a=np.random.uniform(-2,1,(3,2))"
   ]
  },
  {
   "cell_type": "code",
   "execution_count": 21,
   "metadata": {},
   "outputs": [
    {
     "output_type": "execute_result",
     "data": {
      "text/plain": [
       "(3, 2)"
      ]
     },
     "metadata": {},
     "execution_count": 21
    }
   ],
   "source": [
    "a.shape"
   ]
  }
 ]
}
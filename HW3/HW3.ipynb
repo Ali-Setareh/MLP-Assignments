{
 "metadata": {
  "language_info": {
   "codemirror_mode": {
    "name": "ipython",
    "version": 3
   },
   "file_extension": ".py",
   "mimetype": "text/x-python",
   "name": "python",
   "nbconvert_exporter": "python",
   "pygments_lexer": "ipython3",
   "version": "3.8.3"
  },
  "orig_nbformat": 2,
  "kernelspec": {
   "name": "python383jvsc74a57bd084d37dffb2af7f268fc7f49b660c49f0933770a2b2a82a03c1aeb1edb794d7a9",
   "display_name": "Python 3.8.3 64-bit ('base': conda)"
  }
 },
 "nbformat": 4,
 "nbformat_minor": 2,
 "cells": [
  {
   "cell_type": "code",
   "execution_count": 2,
   "metadata": {},
   "outputs": [],
   "source": [
    "import numpy as np\n",
    "import pandas as pd\n",
    "import matplotlib.pyplot as plt\n"
   ]
  },
  {
   "cell_type": "code",
   "execution_count": 5,
   "metadata": {},
   "outputs": [],
   "source": [
    "def initialize(layers_structure):\n",
    "    w_list = []\n",
    "    b_list = []\n",
    "    for i in range(len(layers_structure)-1):\n",
    "        w_list += [ np.random.uniform(-1,1,size=[layers_structure[i+1] , layers_structure[i] ]) ]\n",
    "        b_list += [ np.random.uniform(-1,1,size=[ layers_structure[i+1], 1 ]) ]\n",
    "    return w_list,b_list \n",
    "\n",
    "\n",
    "class NN():\n",
    "    def __init__(self,layers_structure,activation_func_list,loss,n_iter,eta, return_hist=False, return_loss_hist=False):\n",
    "        self.is_trained = False # wheter or not our nn is trained\n",
    "    \n",
    "        self.n_f = layers_structure[0]\n",
    "        self.layers_structure = layers_structure \n",
    "        self.number_of_layers = len(layers_structure)\n",
    "        self.loss = loss \n",
    "        self.act_func_list = np.array([activation_func_list[0] for i in range(self.number_of_layers-1) ])\n",
    "        self.eta=eta \n",
    "        self.n_iter = n_iter \n",
    "\n",
    "        self.w_list,self.b_list = initialize(self.layers_structure)\n",
    "\n",
    "        self.return_hist = return_hist \n",
    "        self.return_loss_hist = return_loss_hist \n",
    "\n",
    "        self.hist = [] \n",
    "        self.loss_hist =[] \n",
    "\n",
    "        self.y_prediction=[]\n",
    "\n",
    "        self.z_list = [] \n",
    "        self.a_list = [] \n",
    "\n",
    "        \n"
   ]
  }
 ]
}